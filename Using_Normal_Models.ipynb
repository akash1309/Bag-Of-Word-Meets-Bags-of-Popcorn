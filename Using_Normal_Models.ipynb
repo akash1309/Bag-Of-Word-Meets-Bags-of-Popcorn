{
  "nbformat": 4,
  "nbformat_minor": 0,
  "metadata": {
    "colab": {
      "name": "Using Normal Models.ipynb",
      "provenance": [],
      "toc_visible": true,
      "mount_file_id": "1vRcqk38j8Fom6qJ6Swgxxy6grwSzCbQ8",
      "authorship_tag": "ABX9TyPz3xN+F2teMHGN4RCYg9Ej"
    },
    "kernelspec": {
      "name": "python3",
      "display_name": "Python 3"
    },
    "accelerator": "GPU"
  },
  "cells": [
    {
      "cell_type": "markdown",
      "metadata": {
        "id": "9hHh0wdzV97x",
        "colab_type": "text"
      },
      "source": [
        "# Bag of Words Meets Bags Of Popcorn\n",
        "\n",
        "- What is Bag of Words Model? \n",
        "https://www.geeksforgeeks.org/bag-of-words-bow-model-in-nlp/\n",
        "\n",
        "- What is Word2Vec?\n",
        "https://code.google.com/archive/p/word2vec/\n",
        "\n",
        "\n",
        "- Contest Link: https://www.kaggle.com/c/word2vec-nlp-tutorial/overview"
      ]
    },
    {
      "cell_type": "markdown",
      "metadata": {
        "id": "enD8OlRZO_Vy",
        "colab_type": "text"
      },
      "source": [
        "## 1) Importing the libraries"
      ]
    },
    {
      "cell_type": "code",
      "metadata": {
        "id": "CtXi_qkOV759",
        "colab_type": "code",
        "colab": {
          "base_uri": "https://localhost:8080/",
          "height": 71
        },
        "outputId": "0c399ea1-5548-4a86-c1bb-9cf16716c5dd"
      },
      "source": [
        "import numpy as np\n",
        "import pandas as pd\n",
        "import matplotlib.pyplot as plt\n",
        "import seaborn as sns\n",
        "import torch\n",
        "import torch.nn as nn\n",
        "import nltk\n",
        "import scipy\n",
        "import warnings\n",
        "import re\n",
        "warnings.filterwarnings('ignore')"
      ],
      "execution_count": 1,
      "outputs": [
        {
          "output_type": "stream",
          "text": [
            "/usr/local/lib/python3.6/dist-packages/statsmodels/tools/_testing.py:19: FutureWarning: pandas.util.testing is deprecated. Use the functions in the public API at pandas.testing instead.\n",
            "  import pandas.util.testing as tm\n"
          ],
          "name": "stderr"
        }
      ]
    },
    {
      "cell_type": "markdown",
      "metadata": {
        "id": "1DZkD669PDgu",
        "colab_type": "text"
      },
      "source": [
        "## 2) Reading the text files and observing its features"
      ]
    },
    {
      "cell_type": "code",
      "metadata": {
        "id": "KYoEq78n_gZZ",
        "colab_type": "code",
        "colab": {}
      },
      "source": [
        "# For train\n",
        "df_train = pd.read_csv('drive/My Drive/Pytorch_DataSet/Bag Of Words Meets Bags of popcorn/labeledTrainData.tsv',sep='\\t')\n",
        "\n",
        "# For test\n",
        "df_test = pd.read_csv('drive/My Drive/Pytorch_DataSet/Bag Of Words Meets Bags of popcorn/testData.tsv',sep='\\t')"
      ],
      "execution_count": 0,
      "outputs": []
    },
    {
      "cell_type": "code",
      "metadata": {
        "id": "zIvuUVycAfO4",
        "colab_type": "code",
        "outputId": "48df3744-1520-4d9a-a12c-70673c978cef",
        "colab": {
          "base_uri": "https://localhost:8080/",
          "height": 204
        }
      },
      "source": [
        "df_train.head()   "
      ],
      "execution_count": 3,
      "outputs": [
        {
          "output_type": "execute_result",
          "data": {
            "text/html": [
              "<div>\n",
              "<style scoped>\n",
              "    .dataframe tbody tr th:only-of-type {\n",
              "        vertical-align: middle;\n",
              "    }\n",
              "\n",
              "    .dataframe tbody tr th {\n",
              "        vertical-align: top;\n",
              "    }\n",
              "\n",
              "    .dataframe thead th {\n",
              "        text-align: right;\n",
              "    }\n",
              "</style>\n",
              "<table border=\"1\" class=\"dataframe\">\n",
              "  <thead>\n",
              "    <tr style=\"text-align: right;\">\n",
              "      <th></th>\n",
              "      <th>id</th>\n",
              "      <th>sentiment</th>\n",
              "      <th>review</th>\n",
              "    </tr>\n",
              "  </thead>\n",
              "  <tbody>\n",
              "    <tr>\n",
              "      <th>0</th>\n",
              "      <td>5814_8</td>\n",
              "      <td>1</td>\n",
              "      <td>With all this stuff going down at the moment w...</td>\n",
              "    </tr>\n",
              "    <tr>\n",
              "      <th>1</th>\n",
              "      <td>2381_9</td>\n",
              "      <td>1</td>\n",
              "      <td>\\The Classic War of the Worlds\\\" by Timothy Hi...</td>\n",
              "    </tr>\n",
              "    <tr>\n",
              "      <th>2</th>\n",
              "      <td>7759_3</td>\n",
              "      <td>0</td>\n",
              "      <td>The film starts with a manager (Nicholas Bell)...</td>\n",
              "    </tr>\n",
              "    <tr>\n",
              "      <th>3</th>\n",
              "      <td>3630_4</td>\n",
              "      <td>0</td>\n",
              "      <td>It must be assumed that those who praised this...</td>\n",
              "    </tr>\n",
              "    <tr>\n",
              "      <th>4</th>\n",
              "      <td>9495_8</td>\n",
              "      <td>1</td>\n",
              "      <td>Superbly trashy and wondrously unpretentious 8...</td>\n",
              "    </tr>\n",
              "  </tbody>\n",
              "</table>\n",
              "</div>"
            ],
            "text/plain": [
              "       id  sentiment                                             review\n",
              "0  5814_8          1  With all this stuff going down at the moment w...\n",
              "1  2381_9          1  \\The Classic War of the Worlds\\\" by Timothy Hi...\n",
              "2  7759_3          0  The film starts with a manager (Nicholas Bell)...\n",
              "3  3630_4          0  It must be assumed that those who praised this...\n",
              "4  9495_8          1  Superbly trashy and wondrously unpretentious 8..."
            ]
          },
          "metadata": {
            "tags": []
          },
          "execution_count": 3
        }
      ]
    },
    {
      "cell_type": "code",
      "metadata": {
        "id": "6KzO8A6VP15d",
        "colab_type": "code",
        "outputId": "393d8052-a5ca-4cc7-ac97-8f049b054bb7",
        "colab": {
          "base_uri": "https://localhost:8080/",
          "height": 204
        }
      },
      "source": [
        "df_test.head()"
      ],
      "execution_count": 4,
      "outputs": [
        {
          "output_type": "execute_result",
          "data": {
            "text/html": [
              "<div>\n",
              "<style scoped>\n",
              "    .dataframe tbody tr th:only-of-type {\n",
              "        vertical-align: middle;\n",
              "    }\n",
              "\n",
              "    .dataframe tbody tr th {\n",
              "        vertical-align: top;\n",
              "    }\n",
              "\n",
              "    .dataframe thead th {\n",
              "        text-align: right;\n",
              "    }\n",
              "</style>\n",
              "<table border=\"1\" class=\"dataframe\">\n",
              "  <thead>\n",
              "    <tr style=\"text-align: right;\">\n",
              "      <th></th>\n",
              "      <th>id</th>\n",
              "      <th>review</th>\n",
              "    </tr>\n",
              "  </thead>\n",
              "  <tbody>\n",
              "    <tr>\n",
              "      <th>0</th>\n",
              "      <td>12311_10</td>\n",
              "      <td>Naturally in a film who's main themes are of m...</td>\n",
              "    </tr>\n",
              "    <tr>\n",
              "      <th>1</th>\n",
              "      <td>8348_2</td>\n",
              "      <td>This movie is a disaster within a disaster fil...</td>\n",
              "    </tr>\n",
              "    <tr>\n",
              "      <th>2</th>\n",
              "      <td>5828_4</td>\n",
              "      <td>All in all, this is a movie for kids. We saw i...</td>\n",
              "    </tr>\n",
              "    <tr>\n",
              "      <th>3</th>\n",
              "      <td>7186_2</td>\n",
              "      <td>Afraid of the Dark left me with the impression...</td>\n",
              "    </tr>\n",
              "    <tr>\n",
              "      <th>4</th>\n",
              "      <td>12128_7</td>\n",
              "      <td>A very accurate depiction of small time mob li...</td>\n",
              "    </tr>\n",
              "  </tbody>\n",
              "</table>\n",
              "</div>"
            ],
            "text/plain": [
              "         id                                             review\n",
              "0  12311_10  Naturally in a film who's main themes are of m...\n",
              "1    8348_2  This movie is a disaster within a disaster fil...\n",
              "2    5828_4  All in all, this is a movie for kids. We saw i...\n",
              "3    7186_2  Afraid of the Dark left me with the impression...\n",
              "4   12128_7  A very accurate depiction of small time mob li..."
            ]
          },
          "metadata": {
            "tags": []
          },
          "execution_count": 4
        }
      ]
    },
    {
      "cell_type": "code",
      "metadata": {
        "id": "wZCyd7-YBIzg",
        "colab_type": "code",
        "outputId": "2082b318-aef1-427f-ff03-e8dd0d1b7b75",
        "colab": {
          "base_uri": "https://localhost:8080/",
          "height": 187
        }
      },
      "source": [
        "df_train.info()"
      ],
      "execution_count": 5,
      "outputs": [
        {
          "output_type": "stream",
          "text": [
            "<class 'pandas.core.frame.DataFrame'>\n",
            "RangeIndex: 25000 entries, 0 to 24999\n",
            "Data columns (total 3 columns):\n",
            " #   Column     Non-Null Count  Dtype \n",
            "---  ------     --------------  ----- \n",
            " 0   id         25000 non-null  object\n",
            " 1   sentiment  25000 non-null  int64 \n",
            " 2   review     25000 non-null  object\n",
            "dtypes: int64(1), object(2)\n",
            "memory usage: 586.1+ KB\n"
          ],
          "name": "stdout"
        }
      ]
    },
    {
      "cell_type": "code",
      "metadata": {
        "id": "9ZRfmjmBBQ-R",
        "colab_type": "code",
        "outputId": "1a999023-e25e-45f2-97fe-d1deb7b8654e",
        "colab": {
          "base_uri": "https://localhost:8080/",
          "height": 297
        }
      },
      "source": [
        "df_train.describe()"
      ],
      "execution_count": 6,
      "outputs": [
        {
          "output_type": "execute_result",
          "data": {
            "text/html": [
              "<div>\n",
              "<style scoped>\n",
              "    .dataframe tbody tr th:only-of-type {\n",
              "        vertical-align: middle;\n",
              "    }\n",
              "\n",
              "    .dataframe tbody tr th {\n",
              "        vertical-align: top;\n",
              "    }\n",
              "\n",
              "    .dataframe thead th {\n",
              "        text-align: right;\n",
              "    }\n",
              "</style>\n",
              "<table border=\"1\" class=\"dataframe\">\n",
              "  <thead>\n",
              "    <tr style=\"text-align: right;\">\n",
              "      <th></th>\n",
              "      <th>sentiment</th>\n",
              "    </tr>\n",
              "  </thead>\n",
              "  <tbody>\n",
              "    <tr>\n",
              "      <th>count</th>\n",
              "      <td>25000.00000</td>\n",
              "    </tr>\n",
              "    <tr>\n",
              "      <th>mean</th>\n",
              "      <td>0.50000</td>\n",
              "    </tr>\n",
              "    <tr>\n",
              "      <th>std</th>\n",
              "      <td>0.50001</td>\n",
              "    </tr>\n",
              "    <tr>\n",
              "      <th>min</th>\n",
              "      <td>0.00000</td>\n",
              "    </tr>\n",
              "    <tr>\n",
              "      <th>25%</th>\n",
              "      <td>0.00000</td>\n",
              "    </tr>\n",
              "    <tr>\n",
              "      <th>50%</th>\n",
              "      <td>0.50000</td>\n",
              "    </tr>\n",
              "    <tr>\n",
              "      <th>75%</th>\n",
              "      <td>1.00000</td>\n",
              "    </tr>\n",
              "    <tr>\n",
              "      <th>max</th>\n",
              "      <td>1.00000</td>\n",
              "    </tr>\n",
              "  </tbody>\n",
              "</table>\n",
              "</div>"
            ],
            "text/plain": [
              "         sentiment\n",
              "count  25000.00000\n",
              "mean       0.50000\n",
              "std        0.50001\n",
              "min        0.00000\n",
              "25%        0.00000\n",
              "50%        0.50000\n",
              "75%        1.00000\n",
              "max        1.00000"
            ]
          },
          "metadata": {
            "tags": []
          },
          "execution_count": 6
        }
      ]
    },
    {
      "cell_type": "markdown",
      "metadata": {
        "id": "LqH5nvmkBto2",
        "colab_type": "text"
      },
      "source": [
        "By observing mean,it looks like it has 50% positive and 50% negative reviews."
      ]
    },
    {
      "cell_type": "markdown",
      "metadata": {
        "id": "yjSv9FHhQBMq",
        "colab_type": "text"
      },
      "source": [
        "## 3) Data Cleaning"
      ]
    },
    {
      "cell_type": "code",
      "metadata": {
        "id": "AJ_ZkQh4BWEx",
        "colab_type": "code",
        "outputId": "9ae176f2-f16c-4fd2-aeb2-6f0e18faa792",
        "colab": {
          "base_uri": "https://localhost:8080/",
          "height": 241
        }
      },
      "source": [
        "# Lets check review section \n",
        "pd.options.display.max_colwidth = 500 # to view each rows text to 500 characters\n",
        "print(df_train['review'])"
      ],
      "execution_count": 7,
      "outputs": [
        {
          "output_type": "stream",
          "text": [
            "0        With all this stuff going down at the moment with MJ i've started listening to his music, watching the odd documentary here and there, watched The Wiz and watched Moonwalker again. Maybe i just want to get a certain insight into this guy who i thought was really cool in the eighties just to maybe make up my mind whether he is guilty or innocent. Moonwalker is part biography, part feature film which i remember going to see at the cinema when it was originally released. Some of it has subtle m...\n",
            "1        \\The Classic War of the Worlds\\\" by Timothy Hines is a very entertaining film that obviously goes to great effort and lengths to faithfully recreate H. G. Wells' classic book. Mr. Hines succeeds in doing so. I, and those who watched his film with me, appreciated the fact that it was not the standard, predictable Hollywood fare that comes out every year, e.g. the Spielberg version with Tom Cruise that had only the slightest resemblance to the book. Obviously, everyone looks for different thin...\n",
            "2        The film starts with a manager (Nicholas Bell) giving welcome investors (Robert Carradine) to Primal Park . A secret project mutating a primal animal using fossilized DNA, like ¨Jurassik Park¨, and some scientists resurrect one of nature's most fearsome predators, the Sabretooth tiger or Smilodon . Scientific ambition turns deadly, however, and when the high voltage fence is opened the creature escape and begins savagely stalking its prey - the human visitors , tourists and scientific.Meanwh...\n",
            "3        It must be assumed that those who praised this film (\\the greatest filmed opera ever,\\\" didn't I read somewhere?) either don't care for opera, don't care for Wagner, or don't care about anything except their desire to appear Cultured. Either as a representation of Wagner's swan-song, or as a movie, this strikes me as an unmitigated disaster, with a leaden reading of the score matched to a tricksy, lugubrious realisation of the text.<br /><br />It's questionable that people with ideas as to w...\n",
            "4        Superbly trashy and wondrously unpretentious 80's exploitation, hooray! The pre-credits opening sequences somewhat give the false impression that we're dealing with a serious and harrowing drama, but you need not fear because barely ten minutes later we're up until our necks in nonsensical chainsaw battles, rough fist-fights, lurid dialogs and gratuitous nudity! Bo and Ingrid are two orphaned siblings with an unusually close and even slightly perverted relationship. Can you imagine playfully...\n",
            "                                                                                                                                                                                                                                                                ...                                                                                                                                                                                                                                                         \n",
            "24995    It seems like more consideration has gone into the IMDb reviews of this film than went into the source.<br /><br />Here's a review without pretensions:<br /><br />Just when you think nothing is going to happen, it doesn't.<br /><br />Dress it up any way you like, this is a dull film, full of unengaging characters doing very little of interest.<br /><br />One to put on if you want to convince an impressionable emo chick that you're like, so deep, man.<br /><br />Not something to watch for you...\n",
            "24996    I don't believe they made this film. Completely unnecessary. The first film was okay. But there was no need for a sequel, certainly not after a television series that was already a sequel to the first film. This film feels like a soap-opera. The writing is so bad, it's utterly simple. The jokes don't come across, the acting is flat, it's shot like a soap, it lacks any direction. The first film had a good emotional spine behind it. Every character had a little arc. It was very simple then but...\n",
            "24997    Guy is a loser. Can't get girls, needs to build up, is picked on by stronger more successful guys, etc. Seen it, saw it, moved on. I'd have to say that Rob needs to move past the Adam Sandler part of his life. And get out of the Adam Sandler plots. There are two funny parts in the whole movie. I couldn't even finish the last 5 minutes. I was getting bored. \\The Animal\\\" is an alright film. I do usually enjoy Adam Sandler films that have the same plot. But this was trying too hard to impress....\n",
            "24998    This 30 minute documentary Buñuel made in the early 1930's about one of Spain's poorest regions is, in my opinion, one of his weakest films. First, let's admit that 70 years later, Spain is much richer than it was then (and when I say this, I fully admit that wealth can bring problems of its own, like excessive individualism and consumerism, though all in all wealth it's a far better condition than the extreme poverty portrayed here). And if poverty receded in Spain it was not exactly with t...\n",
            "24999    I saw this movie as a child and it broke my heart! No other story had such a unfinished ending... I grew up on many great anime movies and this was one of my favourites, because it was so unusual - a story about unfairness, and cruelty, and loneliness, and life, and choices that can't be undone, and the need for others. Chirin is made alone when the Wolf kills his mother, but the Wolf is alone, too, when Chirin follows him into the mountain. The Wolf doesn't kill the lamb, even though each n...\n",
            "Name: review, Length: 25000, dtype: object\n"
          ],
          "name": "stdout"
        }
      ]
    },
    {
      "cell_type": "markdown",
      "metadata": {
        "id": "4wsa15MhDMcs",
        "colab_type": "text"
      },
      "source": [
        "By looking at the text, it should be cleaned : \n",
        "- Lowercase all the letter\n",
        "- Convert short forms to long forms\n",
        "- Remove the html tags\n",
        "- Remove extra white spaces\n",
        "- Remove leading and trailing spaces from a word\n",
        "- Removing numbers like 19 , 20\n",
        "- Removing punctuations such as ... \n"
      ]
    },
    {
      "cell_type": "code",
      "metadata": {
        "id": "NHgtTA-4KwOw",
        "colab_type": "code",
        "outputId": "6e841cd3-66ce-49e7-9d07-99c839692ead",
        "colab": {
          "base_uri": "https://localhost:8080/",
          "height": 34
        }
      },
      "source": [
        "# Removing html tags from text.\n",
        "# https://stackoverflow.com/questions/9662346/python-code-to-remove-html-tags-from-a-string\n",
        "\n",
        "txt = \" the source.<br /><br />Here's a pretensions:<br /><br />Just when\"\n",
        "cleanr = re.sub('<.*?>|&([a-z0-9]+|#[0-9]{1,6}|#x[0-9a-f]{1,6});','',txt)\n",
        "cleanr"
      ],
      "execution_count": 8,
      "outputs": [
        {
          "output_type": "execute_result",
          "data": {
            "text/plain": [
              "\" the source.Here's a pretensions:Just when\""
            ]
          },
          "metadata": {
            "tags": []
          },
          "execution_count": 8
        }
      ]
    },
    {
      "cell_type": "code",
      "metadata": {
        "id": "vB7m0o28YCNL",
        "colab_type": "code",
        "outputId": "8a1ee5d4-7ae0-4b58-d002-90def36f36b8",
        "colab": {
          "base_uri": "https://localhost:8080/",
          "height": 34
        }
      },
      "source": [
        "# Removing digits from text\n",
        "# https://stackoverflow.com/questions/817122/delete-digits-in-python-regex\n",
        "\n",
        "text = \" the source.<br /><br />Here's a 20 preten 103s and 120th sions:<br /><br />Just when\"\n",
        "text = re.sub(\"^\\d+\\s|\\s\\d+\\s|\\s\\d+$\", \" \", text) # Removing digits\n",
        "text"
      ],
      "execution_count": 9,
      "outputs": [
        {
          "output_type": "execute_result",
          "data": {
            "text/plain": [
              "\" the source.<br /><br />Here's a preten 103s and 120th sions:<br /><br />Just when\""
            ]
          },
          "metadata": {
            "tags": []
          },
          "execution_count": 9
        }
      ]
    },
    {
      "cell_type": "code",
      "metadata": {
        "id": "vPs5XKU3JmmX",
        "colab_type": "code",
        "colab": {}
      },
      "source": [
        "# Let's clean text\n",
        "def clean_text(text):\n",
        "  text = text.lower()\n",
        "  text = re.sub('<.*?>|&([a-z0-9]+|#[0-9]{1,6}|#x[0-9a-f]{1,6});','',text)  # for removal of html tags\n",
        "  \"\"\"\n",
        "  text = re.sub(r\"can't\",\"cannot\",text)\n",
        "  text = re.sub(r\"shan't\",\"shall not\",text)\n",
        "  text = re.sub(r\"won't\",\"will not\",text)\n",
        "  text = re.sub(r\"n't\",\" not\",text) # see the space before not. \n",
        "  text = re.sub(r\"i'm\",\"i am\",text)\n",
        "  text = re.sub(r\"what's\",\"what is\",text)\n",
        "  text = re.sub(r\"let's\",\"let us\",text)\n",
        "  text = re.sub(r\"'re\",\" are\",text)\n",
        "  text = re.sub(r\"'s\",\" \",text)  # space because we dont know the tense , it can be is/has anything.\n",
        "  text = re.sub(r\"'ve\",\" have\",text)\n",
        "  text = re.sub(r\"\\'ll\", \" will \", text)\n",
        "  text = re.sub(r\"\\'scuse\", \" excuse \", text)\n",
        "  \"\"\"\n",
        "  text = re.sub(r\"[^a-zA-Z]\",\" \",text)\n",
        "  text = re.sub(\"^\\d+\\s|\\s\\d+\\s|\\s\\d+$\", \" \", text) # Removing digits\n",
        "  text = re.sub('\\W', ' ', text)  # If the comment/word does not contain any alphabets\n",
        "  text = re.sub('\\s+', ' ', text) # If there are more than one whitespace simultenously, then replace them by only 1 whitespace and also replace the punctuation marks\n",
        "  text = text.strip(' ') # Removing leading and trailing white spaces\n",
        "  return text\n"
      ],
      "execution_count": 0,
      "outputs": []
    },
    {
      "cell_type": "markdown",
      "metadata": {
        "id": "l0GVOln8PrHv",
        "colab_type": "text"
      },
      "source": [
        "Cleaning text for train file\n"
      ]
    },
    {
      "cell_type": "code",
      "metadata": {
        "id": "1_9ypXz-Nhxt",
        "colab_type": "code",
        "colab": {}
      },
      "source": [
        "df_train['review'] = df_train['review'].apply(lambda text: clean_text(text))"
      ],
      "execution_count": 0,
      "outputs": []
    },
    {
      "cell_type": "code",
      "metadata": {
        "id": "Ezzlt5LfOZ2j",
        "colab_type": "code",
        "outputId": "d1c34a02-bba9-4e0c-f740-e86d2a2ee1a4",
        "colab": {
          "base_uri": "https://localhost:8080/",
          "height": 241
        }
      },
      "source": [
        "print(df_train['review'])"
      ],
      "execution_count": 12,
      "outputs": [
        {
          "output_type": "stream",
          "text": [
            "0        with all this stuff going down at the moment with mj i ve started listening to his music watching the odd documentary here and there watched the wiz and watched moonwalker again maybe i just want to get a certain insight into this guy who i thought was really cool in the eighties just to maybe make up my mind whether he is guilty or innocent moonwalker is part biography part feature film which i remember going to see at the cinema when it was originally released some of it has subtle message...\n",
            "1        the classic war of the worlds by timothy hines is a very entertaining film that obviously goes to great effort and lengths to faithfully recreate h g wells classic book mr hines succeeds in doing so i and those who watched his film with me appreciated the fact that it was not the standard predictable hollywood fare that comes out every year e g the spielberg version with tom cruise that had only the slightest resemblance to the book obviously everyone looks for different things in a movie th...\n",
            "2        the film starts with a manager nicholas bell giving welcome investors robert carradine to primal park a secret project mutating a primal animal using fossilized dna like jurassik park and some scientists resurrect one of nature s most fearsome predators the sabretooth tiger or smilodon scientific ambition turns deadly however and when the high voltage fence is opened the creature escape and begins savagely stalking its prey the human visitors tourists and scientific meanwhile some youngsters...\n",
            "3        it must be assumed that those who praised this film the greatest filmed opera ever didn t i read somewhere either don t care for opera don t care for wagner or don t care about anything except their desire to appear cultured either as a representation of wagner s swan song or as a movie this strikes me as an unmitigated disaster with a leaden reading of the score matched to a tricksy lugubrious realisation of the text it s questionable that people with ideas as to what an opera or for that m...\n",
            "4        superbly trashy and wondrously unpretentious s exploitation hooray the pre credits opening sequences somewhat give the false impression that we re dealing with a serious and harrowing drama but you need not fear because barely ten minutes later we re up until our necks in nonsensical chainsaw battles rough fist fights lurid dialogs and gratuitous nudity bo and ingrid are two orphaned siblings with an unusually close and even slightly perverted relationship can you imagine playfully ripping o...\n",
            "                                                                                                                                                                                                                                                                ...                                                                                                                                                                                                                                                         \n",
            "24995                         it seems like more consideration has gone into the imdb reviews of this film than went into the source here s a review without pretensions just when you think nothing is going to happen it doesn t dress it up any way you like this is a dull film full of unengaging characters doing very little of interest one to put on if you want to convince an impressionable emo chick that you re like so deep man not something to watch for your own pleasure though unless you re pretentious\n",
            "24996    i don t believe they made this film completely unnecessary the first film was okay but there was no need for a sequel certainly not after a television series that was already a sequel to the first film this film feels like a soap opera the writing is so bad it s utterly simple the jokes don t come across the acting is flat it s shot like a soap it lacks any direction the first film had a good emotional spine behind it every character had a little arc it was very simple then but somehow it wo...\n",
            "24997    guy is a loser can t get girls needs to build up is picked on by stronger more successful guys etc seen it saw it moved on i d have to say that rob needs to move past the adam sandler part of his life and get out of the adam sandler plots there are two funny parts in the whole movie i couldn t even finish the last minutes i was getting bored the animal is an alright film i do usually enjoy adam sandler films that have the same plot but this was trying too hard to impress the jokes are very o...\n",
            "24998    this minute documentary bu uel made in the early s about one of spain s poorest regions is in my opinion one of his weakest films first let s admit that years later spain is much richer than it was then and when i say this i fully admit that wealth can bring problems of its own like excessive individualism and consumerism though all in all wealth it s a far better condition than the extreme poverty portrayed here and if poverty receded in spain it was not exactly with the sort of socialism t...\n",
            "24999    i saw this movie as a child and it broke my heart no other story had such a unfinished ending i grew up on many great anime movies and this was one of my favourites because it was so unusual a story about unfairness and cruelty and loneliness and life and choices that can t be undone and the need for others chirin is made alone when the wolf kills his mother but the wolf is alone too when chirin follows him into the mountain the wolf doesn t kill the lamb even though each night he says maybe...\n",
            "Name: review, Length: 25000, dtype: object\n"
          ],
          "name": "stdout"
        }
      ]
    },
    {
      "cell_type": "markdown",
      "metadata": {
        "id": "ZbVIlMwAPtQx",
        "colab_type": "text"
      },
      "source": [
        "Cleaning text for test file\n"
      ]
    },
    {
      "cell_type": "code",
      "metadata": {
        "id": "Jb58x8V0PWvm",
        "colab_type": "code",
        "colab": {}
      },
      "source": [
        "df_test['review'] = df_test['review'].apply(lambda text: clean_text(text))"
      ],
      "execution_count": 0,
      "outputs": []
    },
    {
      "cell_type": "code",
      "metadata": {
        "id": "MCYS-eZQPxM7",
        "colab_type": "code",
        "outputId": "c50ee663-664d-4eee-c6c5-3fb78f2445f4",
        "colab": {
          "base_uri": "https://localhost:8080/",
          "height": 241
        }
      },
      "source": [
        "print(df_test['review'])"
      ],
      "execution_count": 14,
      "outputs": [
        {
          "output_type": "stream",
          "text": [
            "0        naturally in a film who s main themes are of mortality nostalgia and loss of innocence it is perhaps not surprising that it is rated more highly by older viewers than younger ones however there is a craftsmanship and completeness to the film which anyone can enjoy the pace is steady and constant the characters full and engaging the relationships and interactions natural showing that you do not need floods of tears to show emotion screams to show fear shouting to show dispute or violence to s...\n",
            "1        this movie is a disaster within a disaster film it is full of great action scenes which are only meaningful if you throw away all sense of reality let s see word to the wise lava burns you steam burns you you can t stand next to lava diverting a minor lava flow is difficult let alone a significant one scares me to think that some might actually believe what they saw in this movie even worse is the significant amount of talent that went into making this film i mean the acting is actually very...\n",
            "2        all in all this is a movie for kids we saw it tonight and my child loved it at one point my kid s excitement was so great that sitting was impossible however i am a great fan of a a milne s books which are very subtle and hide a wry intelligence behind the childlike quality of its leading characters this film was not subtle it seems a shame that disney cannot see the benefit of making movies from more of the stories contained in those pages although perhaps it doesn t have the permission to ...\n",
            "3        afraid of the dark left me with the impression that several different screenplays were written all too short for a feature length film then spliced together clumsily into this frankenstein s monster at his best the protagonist lucas is creepy as hard as it is to draw a bead on the secondary characters they re far more sympathetic afraid of the dark could have achieved mediocrity had it taken just one approach and seen it through and had it made lucas simply psychotic and confused instead of ...\n",
            "4        a very accurate depiction of small time mob life filmed in new jersey the story characters and script are believable but the acting drops the ball still it s worth watching especially for the strong images some still with me even though i first viewed this years ago a young hood steps up and starts doing bigger things tries to but these things keep going wrong leading the local boss to suspect that his end is being skimmed off not a good place to be if you enjoy your health or life this is t...\n",
            "                                                                                                                                                                                                                                                                ...                                                                                                                                                                                                                                                         \n",
            "24995    sony pictures classics i m looking at you sony s got the rights to harry records you need to distribute the film and you ll get radically increased sales of his back catalog anyhow this is a great study of a fascinating musician woefully underknown full of great stories greater music and it could have been hours longer and i d have loved it even more saw it at the american cinemateque mods rockers festival at the aero theatre in santa monica where it played to a packed house they were turnin...\n",
            "24996    i always felt that ms merkerson had never gotten a role fitting her skills familiar to millions as the lt on law and order she has been seen in a number of theatrical releases always in a supporting role hbo s lackawanna blues changes that and allows this talented actress to shine as nanny successful entrepreneur in a world changing from segregation to integration but the story is really about the colorful array of characters that she and her adopted son meet in a boarding house in lackawann...\n",
            "24997    i was so disappointed in this movie i am very familiar with the case having read not only mark fuhrman s book but also the far superior a wealth of evil the true story of the murder of martha moxley in america s richest community by timothy dumas anyone who watches murder in greenwich should be aware they re watching the mark fuhrman story not the martha moxley story this film is nothing more than an ego trip for fuhrman just watch his character strut around as if he is the second coming yes...\n",
            "24998    from the opening sequence filled with black and white shots reminiscent of gordan parks photos this film draws the viewer into a feeling of artistic renaissance the backdrop of a poetry cafe aptly named the sanctuary provides just that the jazz that permeates the film and the cinematography will seduce you this story of love actually allows love to grow to evolve and ultimately mature a rarity in hollywood everyone can identify with some stage of their journey towards each other this tale of...\n",
            "24999    this is a great horror film for people who don t want all that vomit retching gore and sensationalism this movie has equal amounts of horror suspense humor and even a little light nudity but nothing big linnea quigley isn t over the top as she was in return of the living dead where she danced naked on a crypt but she is still essentially the same slutty character cathy podewell is a virginal and chaste character before going on to dallas and we are also introduced to amelia soon mimi kinkade...\n",
            "Name: review, Length: 25000, dtype: object\n"
          ],
          "name": "stdout"
        }
      ]
    },
    {
      "cell_type": "markdown",
      "metadata": {
        "id": "7R8yRlitQQ1b",
        "colab_type": "text"
      },
      "source": [
        "Splitting into X and y features"
      ]
    },
    {
      "cell_type": "code",
      "metadata": {
        "id": "n5q7_gQSCHrE",
        "colab_type": "code",
        "colab": {}
      },
      "source": [
        "# For train file\n",
        "\n",
        "X = df_train['review']\n",
        "y = df_train['sentiment']\n",
        "\n",
        "# For test file\n",
        "\n",
        "X_test = df_test['review']"
      ],
      "execution_count": 0,
      "outputs": []
    },
    {
      "cell_type": "markdown",
      "metadata": {
        "id": "7xh7seOGTuMm",
        "colab_type": "text"
      },
      "source": [
        "## 4) Tokenizing text words\n",
        "\n",
        "we will use tfidftokenizer and will remove all the stop words from text and take only top 5000 words."
      ]
    },
    {
      "cell_type": "code",
      "metadata": {
        "id": "8jvHQerHUQJa",
        "colab_type": "code",
        "colab": {}
      },
      "source": [
        "from sklearn.feature_extraction.text import TfidfVectorizer\n",
        "from sklearn.metrics import accuracy_score, confusion_matrix,roc_auc_score,roc_curve"
      ],
      "execution_count": 0,
      "outputs": []
    },
    {
      "cell_type": "code",
      "metadata": {
        "id": "oeIJE9cBN8vj",
        "colab_type": "code",
        "outputId": "9cd236d9-f1ff-400a-c33d-37d8b158bb60",
        "colab": {
          "base_uri": "https://localhost:8080/",
          "height": 136
        }
      },
      "source": [
        "tf = TfidfVectorizer(stop_words='english',max_features=20000)\n",
        "tf"
      ],
      "execution_count": 17,
      "outputs": [
        {
          "output_type": "execute_result",
          "data": {
            "text/plain": [
              "TfidfVectorizer(analyzer='word', binary=False, decode_error='strict',\n",
              "                dtype=<class 'numpy.float64'>, encoding='utf-8',\n",
              "                input='content', lowercase=True, max_df=1.0, max_features=20000,\n",
              "                min_df=1, ngram_range=(1, 1), norm='l2', preprocessor=None,\n",
              "                smooth_idf=True, stop_words='english', strip_accents=None,\n",
              "                sublinear_tf=False, token_pattern='(?u)\\\\b\\\\w\\\\w+\\\\b',\n",
              "                tokenizer=None, use_idf=True, vocabulary=None)"
            ]
          },
          "metadata": {
            "tags": []
          },
          "execution_count": 17
        }
      ]
    },
    {
      "cell_type": "code",
      "metadata": {
        "id": "1ZsMv7oCUm_-",
        "colab_type": "code",
        "colab": {}
      },
      "source": [
        "# For training\n",
        "\n",
        "X = tf.fit_transform(X)\n",
        "\n",
        "# For test \n",
        "\n",
        "X_test = tf.transform(X_test)"
      ],
      "execution_count": 0,
      "outputs": []
    },
    {
      "cell_type": "code",
      "metadata": {
        "id": "sjyraeRVU7on",
        "colab_type": "code",
        "outputId": "d2ec3ce9-e70d-4592-f9b9-7e4d800d5cdc",
        "colab": {
          "base_uri": "https://localhost:8080/",
          "height": 34
        }
      },
      "source": [
        "len(tf.get_feature_names()) , \n",
        "#tf.get_feature_names()"
      ],
      "execution_count": 19,
      "outputs": [
        {
          "output_type": "execute_result",
          "data": {
            "text/plain": [
              "(20000,)"
            ]
          },
          "metadata": {
            "tags": []
          },
          "execution_count": 19
        }
      ]
    },
    {
      "cell_type": "code",
      "metadata": {
        "id": "po9pTM07Z-cf",
        "colab_type": "code",
        "outputId": "21708351-837e-41df-8ace-a3a73b7c4620",
        "colab": {
          "base_uri": "https://localhost:8080/",
          "height": 153
        }
      },
      "source": [
        "print(X.toarray().shape)\n",
        "X.toarray()"
      ],
      "execution_count": 20,
      "outputs": [
        {
          "output_type": "stream",
          "text": [
            "(25000, 20000)\n"
          ],
          "name": "stdout"
        },
        {
          "output_type": "execute_result",
          "data": {
            "text/plain": [
              "array([[0., 0., 0., ..., 0., 0., 0.],\n",
              "       [0., 0., 0., ..., 0., 0., 0.],\n",
              "       [0., 0., 0., ..., 0., 0., 0.],\n",
              "       ...,\n",
              "       [0., 0., 0., ..., 0., 0., 0.],\n",
              "       [0., 0., 0., ..., 0., 0., 0.],\n",
              "       [0., 0., 0., ..., 0., 0., 0.]])"
            ]
          },
          "metadata": {
            "tags": []
          },
          "execution_count": 20
        }
      ]
    },
    {
      "cell_type": "markdown",
      "metadata": {
        "id": "5xQc7B3ibJDw",
        "colab_type": "text"
      },
      "source": [
        "Splitting into train, val and test set"
      ]
    },
    {
      "cell_type": "code",
      "metadata": {
        "id": "4ydW75ZBbNEI",
        "colab_type": "code",
        "colab": {}
      },
      "source": [
        "from sklearn.model_selection import train_test_split\n",
        "X_train, X_val, y_train, y_val = train_test_split(X,y,test_size=0.1,random_state=50)"
      ],
      "execution_count": 0,
      "outputs": []
    },
    {
      "cell_type": "markdown",
      "metadata": {
        "id": "NiQgogxpaYMl",
        "colab_type": "text"
      },
      "source": [
        "## 5) Building the model"
      ]
    },
    {
      "cell_type": "markdown",
      "metadata": {
        "id": "Y9ECIlh_d7_8",
        "colab_type": "text"
      },
      "source": [
        "### 5.1) Using random forest classifier."
      ]
    },
    {
      "cell_type": "code",
      "metadata": {
        "id": "pXJNcLwSaAbk",
        "colab_type": "code",
        "colab": {}
      },
      "source": [
        "from sklearn.ensemble import RandomForestClassifier\n",
        "rf_clf = RandomForestClassifier()"
      ],
      "execution_count": 0,
      "outputs": []
    },
    {
      "cell_type": "code",
      "metadata": {
        "id": "t1nFCyXJalAh",
        "colab_type": "code",
        "outputId": "df7896ad-2d62-495b-c532-7cf73c33e48a",
        "colab": {
          "base_uri": "https://localhost:8080/",
          "height": 153
        }
      },
      "source": [
        "rf_clf.fit(X_train,y_train)"
      ],
      "execution_count": 23,
      "outputs": [
        {
          "output_type": "execute_result",
          "data": {
            "text/plain": [
              "RandomForestClassifier(bootstrap=True, ccp_alpha=0.0, class_weight=None,\n",
              "                       criterion='gini', max_depth=None, max_features='auto',\n",
              "                       max_leaf_nodes=None, max_samples=None,\n",
              "                       min_impurity_decrease=0.0, min_impurity_split=None,\n",
              "                       min_samples_leaf=1, min_samples_split=2,\n",
              "                       min_weight_fraction_leaf=0.0, n_estimators=100,\n",
              "                       n_jobs=None, oob_score=False, random_state=None,\n",
              "                       verbose=0, warm_start=False)"
            ]
          },
          "metadata": {
            "tags": []
          },
          "execution_count": 23
        }
      ]
    },
    {
      "cell_type": "code",
      "metadata": {
        "id": "CvccmCF8brTG",
        "colab_type": "code",
        "colab": {}
      },
      "source": [
        "y_val_pred = rf_clf.predict(X_val)"
      ],
      "execution_count": 0,
      "outputs": []
    },
    {
      "cell_type": "code",
      "metadata": {
        "id": "vOq53Tcibwmb",
        "colab_type": "code",
        "outputId": "3628de21-d0b3-43a4-847c-dd1758008458",
        "colab": {
          "base_uri": "https://localhost:8080/",
          "height": 34
        }
      },
      "source": [
        "print(accuracy_score(y_val_pred,y_val))"
      ],
      "execution_count": 25,
      "outputs": [
        {
          "output_type": "stream",
          "text": [
            "0.8588\n"
          ],
          "name": "stdout"
        }
      ]
    },
    {
      "cell_type": "code",
      "metadata": {
        "id": "PhIHK-npcmYl",
        "colab_type": "code",
        "outputId": "9f3dc9a2-1626-4c1c-b935-66e952d5de03",
        "colab": {
          "base_uri": "https://localhost:8080/",
          "height": 34
        }
      },
      "source": [
        "print(roc_curve(y_val_pred,y_val))"
      ],
      "execution_count": 26,
      "outputs": [
        {
          "output_type": "stream",
          "text": [
            "(array([0.        , 0.14475743, 1.        ]), array([0.        , 0.86252046, 1.        ]), array([2, 1, 0]))\n"
          ],
          "name": "stdout"
        }
      ]
    },
    {
      "cell_type": "code",
      "metadata": {
        "id": "xWcKno46cwhs",
        "colab_type": "code",
        "outputId": "56f2bdad-e1fb-43c4-c523-b0b66e87c69f",
        "colab": {
          "base_uri": "https://localhost:8080/",
          "height": 34
        }
      },
      "source": [
        "print(roc_auc_score(y_val_pred,y_val))"
      ],
      "execution_count": 27,
      "outputs": [
        {
          "output_type": "stream",
          "text": [
            "0.8588815123876556\n"
          ],
          "name": "stdout"
        }
      ]
    },
    {
      "cell_type": "code",
      "metadata": {
        "id": "KE6iIYM3as0C",
        "colab_type": "code",
        "colab": {}
      },
      "source": [
        "rfc1 = rf_clf.predict(X_test)\n",
        "rfc2 = rf_clf.predict_proba(X_test)[:,1]"
      ],
      "execution_count": 0,
      "outputs": []
    },
    {
      "cell_type": "code",
      "metadata": {
        "id": "4flmduZha9Sk",
        "colab_type": "code",
        "outputId": "91d12a81-cba2-4222-907d-f24329d35dc7",
        "colab": {
          "base_uri": "https://localhost:8080/",
          "height": 34
        }
      },
      "source": [
        "rfc1"
      ],
      "execution_count": 29,
      "outputs": [
        {
          "output_type": "execute_result",
          "data": {
            "text/plain": [
              "array([1, 0, 1, ..., 1, 1, 1])"
            ]
          },
          "metadata": {
            "tags": []
          },
          "execution_count": 29
        }
      ]
    },
    {
      "cell_type": "code",
      "metadata": {
        "id": "Wu_jDTsmllnd",
        "colab_type": "code",
        "colab": {
          "base_uri": "https://localhost:8080/",
          "height": 34
        },
        "outputId": "887509d0-2ea9-4ab2-afc8-9ad9843a1365"
      },
      "source": [
        "rfc2"
      ],
      "execution_count": 30,
      "outputs": [
        {
          "output_type": "execute_result",
          "data": {
            "text/plain": [
              "array([0.87, 0.21, 0.58, ..., 0.55, 0.78, 0.56])"
            ]
          },
          "metadata": {
            "tags": []
          },
          "execution_count": 30
        }
      ]
    },
    {
      "cell_type": "code",
      "metadata": {
        "id": "zLq8xVDaa-1E",
        "colab_type": "code",
        "outputId": "d59aa38b-6b27-487a-8fb3-93f63dc64466",
        "colab": {
          "base_uri": "https://localhost:8080/",
          "height": 204
        }
      },
      "source": [
        "# putting result in submission file\n",
        "\n",
        "submission_file = pd.read_csv('drive/My Drive/Pytorch_DataSet/Bag Of Words Meets Bags of popcorn/sampleSubmission.csv')\n",
        "submission_file.head()"
      ],
      "execution_count": 31,
      "outputs": [
        {
          "output_type": "execute_result",
          "data": {
            "text/html": [
              "<div>\n",
              "<style scoped>\n",
              "    .dataframe tbody tr th:only-of-type {\n",
              "        vertical-align: middle;\n",
              "    }\n",
              "\n",
              "    .dataframe tbody tr th {\n",
              "        vertical-align: top;\n",
              "    }\n",
              "\n",
              "    .dataframe thead th {\n",
              "        text-align: right;\n",
              "    }\n",
              "</style>\n",
              "<table border=\"1\" class=\"dataframe\">\n",
              "  <thead>\n",
              "    <tr style=\"text-align: right;\">\n",
              "      <th></th>\n",
              "      <th>id</th>\n",
              "      <th>sentiment</th>\n",
              "    </tr>\n",
              "  </thead>\n",
              "  <tbody>\n",
              "    <tr>\n",
              "      <th>0</th>\n",
              "      <td>12311_10</td>\n",
              "      <td>0</td>\n",
              "    </tr>\n",
              "    <tr>\n",
              "      <th>1</th>\n",
              "      <td>8348_2</td>\n",
              "      <td>0</td>\n",
              "    </tr>\n",
              "    <tr>\n",
              "      <th>2</th>\n",
              "      <td>5828_4</td>\n",
              "      <td>0</td>\n",
              "    </tr>\n",
              "    <tr>\n",
              "      <th>3</th>\n",
              "      <td>7186_2</td>\n",
              "      <td>0</td>\n",
              "    </tr>\n",
              "    <tr>\n",
              "      <th>4</th>\n",
              "      <td>12128_7</td>\n",
              "      <td>0</td>\n",
              "    </tr>\n",
              "  </tbody>\n",
              "</table>\n",
              "</div>"
            ],
            "text/plain": [
              "         id  sentiment\n",
              "0  12311_10          0\n",
              "1    8348_2          0\n",
              "2    5828_4          0\n",
              "3    7186_2          0\n",
              "4   12128_7          0"
            ]
          },
          "metadata": {
            "tags": []
          },
          "execution_count": 31
        }
      ]
    },
    {
      "cell_type": "code",
      "metadata": {
        "id": "t2ROdx2OcQ5O",
        "colab_type": "code",
        "colab": {}
      },
      "source": [
        "submission_file['sentiment'] = rfc1"
      ],
      "execution_count": 0,
      "outputs": []
    },
    {
      "cell_type": "code",
      "metadata": {
        "id": "ZouM5H1HdIAC",
        "colab_type": "code",
        "outputId": "2dafb3cb-83ca-4dda-8ac0-775f8a6aacb4",
        "colab": {
          "base_uri": "https://localhost:8080/",
          "height": 419
        }
      },
      "source": [
        "submission_file"
      ],
      "execution_count": 33,
      "outputs": [
        {
          "output_type": "execute_result",
          "data": {
            "text/html": [
              "<div>\n",
              "<style scoped>\n",
              "    .dataframe tbody tr th:only-of-type {\n",
              "        vertical-align: middle;\n",
              "    }\n",
              "\n",
              "    .dataframe tbody tr th {\n",
              "        vertical-align: top;\n",
              "    }\n",
              "\n",
              "    .dataframe thead th {\n",
              "        text-align: right;\n",
              "    }\n",
              "</style>\n",
              "<table border=\"1\" class=\"dataframe\">\n",
              "  <thead>\n",
              "    <tr style=\"text-align: right;\">\n",
              "      <th></th>\n",
              "      <th>id</th>\n",
              "      <th>sentiment</th>\n",
              "    </tr>\n",
              "  </thead>\n",
              "  <tbody>\n",
              "    <tr>\n",
              "      <th>0</th>\n",
              "      <td>12311_10</td>\n",
              "      <td>1</td>\n",
              "    </tr>\n",
              "    <tr>\n",
              "      <th>1</th>\n",
              "      <td>8348_2</td>\n",
              "      <td>0</td>\n",
              "    </tr>\n",
              "    <tr>\n",
              "      <th>2</th>\n",
              "      <td>5828_4</td>\n",
              "      <td>1</td>\n",
              "    </tr>\n",
              "    <tr>\n",
              "      <th>3</th>\n",
              "      <td>7186_2</td>\n",
              "      <td>1</td>\n",
              "    </tr>\n",
              "    <tr>\n",
              "      <th>4</th>\n",
              "      <td>12128_7</td>\n",
              "      <td>1</td>\n",
              "    </tr>\n",
              "    <tr>\n",
              "      <th>...</th>\n",
              "      <td>...</td>\n",
              "      <td>...</td>\n",
              "    </tr>\n",
              "    <tr>\n",
              "      <th>24995</th>\n",
              "      <td>2155_10</td>\n",
              "      <td>1</td>\n",
              "    </tr>\n",
              "    <tr>\n",
              "      <th>24996</th>\n",
              "      <td>59_10</td>\n",
              "      <td>1</td>\n",
              "    </tr>\n",
              "    <tr>\n",
              "      <th>24997</th>\n",
              "      <td>2531_1</td>\n",
              "      <td>1</td>\n",
              "    </tr>\n",
              "    <tr>\n",
              "      <th>24998</th>\n",
              "      <td>7772_8</td>\n",
              "      <td>1</td>\n",
              "    </tr>\n",
              "    <tr>\n",
              "      <th>24999</th>\n",
              "      <td>11465_10</td>\n",
              "      <td>1</td>\n",
              "    </tr>\n",
              "  </tbody>\n",
              "</table>\n",
              "<p>25000 rows × 2 columns</p>\n",
              "</div>"
            ],
            "text/plain": [
              "             id  sentiment\n",
              "0      12311_10          1\n",
              "1        8348_2          0\n",
              "2        5828_4          1\n",
              "3        7186_2          1\n",
              "4       12128_7          1\n",
              "...         ...        ...\n",
              "24995   2155_10          1\n",
              "24996     59_10          1\n",
              "24997    2531_1          1\n",
              "24998    7772_8          1\n",
              "24999  11465_10          1\n",
              "\n",
              "[25000 rows x 2 columns]"
            ]
          },
          "metadata": {
            "tags": []
          },
          "execution_count": 33
        }
      ]
    },
    {
      "cell_type": "code",
      "metadata": {
        "id": "vYNUNOeWdJnq",
        "colab_type": "code",
        "colab": {}
      },
      "source": [
        "submission_file.to_csv('Using ensemble model.csv',index=False)"
      ],
      "execution_count": 0,
      "outputs": []
    },
    {
      "cell_type": "markdown",
      "metadata": {
        "id": "FNZDtn7fliZ4",
        "colab_type": "text"
      },
      "source": [
        "Model gave 84.7% accuracy."
      ]
    },
    {
      "cell_type": "markdown",
      "metadata": {
        "id": "Wvx1IX55eluR",
        "colab_type": "text"
      },
      "source": [
        "### 5.2) Using xgboost"
      ]
    },
    {
      "cell_type": "code",
      "metadata": {
        "id": "UCRb5l8NdajV",
        "colab_type": "code",
        "colab": {}
      },
      "source": [
        "import xgboost as xgb"
      ],
      "execution_count": 0,
      "outputs": []
    },
    {
      "cell_type": "code",
      "metadata": {
        "id": "LxdbV_bYexCc",
        "colab_type": "code",
        "colab": {}
      },
      "source": [
        "xg_clf = xgb.XGBClassifier(objective ='binary:logistic',learning_rate=0.2,n_estimators=1000,max_depth=20)"
      ],
      "execution_count": 0,
      "outputs": []
    },
    {
      "cell_type": "code",
      "metadata": {
        "id": "UYA8blDlfQ4Y",
        "colab_type": "code",
        "outputId": "ed1c00c0-efc1-4f12-937a-8faf35740dc7",
        "colab": {
          "base_uri": "https://localhost:8080/",
          "height": 136
        }
      },
      "source": [
        "xg_clf.fit(X_train,y_train)"
      ],
      "execution_count": 37,
      "outputs": [
        {
          "output_type": "execute_result",
          "data": {
            "text/plain": [
              "XGBClassifier(base_score=0.5, booster='gbtree', colsample_bylevel=1,\n",
              "              colsample_bynode=1, colsample_bytree=1, gamma=0,\n",
              "              learning_rate=0.2, max_delta_step=0, max_depth=20,\n",
              "              min_child_weight=1, missing=None, n_estimators=1000, n_jobs=1,\n",
              "              nthread=None, objective='binary:logistic', random_state=0,\n",
              "              reg_alpha=0, reg_lambda=1, scale_pos_weight=1, seed=None,\n",
              "              silent=None, subsample=1, verbosity=1)"
            ]
          },
          "metadata": {
            "tags": []
          },
          "execution_count": 37
        }
      ]
    },
    {
      "cell_type": "code",
      "metadata": {
        "id": "V9dgkEzofUYF",
        "colab_type": "code",
        "colab": {}
      },
      "source": [
        "y_val_pred = xg_clf.predict(X_val)"
      ],
      "execution_count": 0,
      "outputs": []
    },
    {
      "cell_type": "code",
      "metadata": {
        "id": "kLrOyCCYfe5G",
        "colab_type": "code",
        "outputId": "6707d0ef-5f70-48dc-fc97-7d26e64b9445",
        "colab": {
          "base_uri": "https://localhost:8080/",
          "height": 34
        }
      },
      "source": [
        "print(roc_auc_score(y_val_pred,y_val))"
      ],
      "execution_count": 39,
      "outputs": [
        {
          "output_type": "stream",
          "text": [
            "0.8676432186662366\n"
          ],
          "name": "stdout"
        }
      ]
    },
    {
      "cell_type": "code",
      "metadata": {
        "id": "2oIkhjpUfja6",
        "colab_type": "code",
        "colab": {}
      },
      "source": [
        "xgb1 = xg_clf.predict(X_test)\n",
        "xgb2 = xg_clf.predict_proba(X_test)[:,1]"
      ],
      "execution_count": 0,
      "outputs": []
    },
    {
      "cell_type": "code",
      "metadata": {
        "id": "TcPga44sl4pW",
        "colab_type": "code",
        "colab": {
          "base_uri": "https://localhost:8080/",
          "height": 34
        },
        "outputId": "c28c95ae-036b-4b15-b7be-ea7fc97d5cea"
      },
      "source": [
        "xgb1"
      ],
      "execution_count": 41,
      "outputs": [
        {
          "output_type": "execute_result",
          "data": {
            "text/plain": [
              "array([1, 0, 1, ..., 0, 1, 1])"
            ]
          },
          "metadata": {
            "tags": []
          },
          "execution_count": 41
        }
      ]
    },
    {
      "cell_type": "code",
      "metadata": {
        "id": "dQFvNIaql51d",
        "colab_type": "code",
        "colab": {
          "base_uri": "https://localhost:8080/",
          "height": 51
        },
        "outputId": "db7474c5-cd70-4e7b-80f4-27c0382209b7"
      },
      "source": [
        "xgb2"
      ],
      "execution_count": 42,
      "outputs": [
        {
          "output_type": "execute_result",
          "data": {
            "text/plain": [
              "array([9.9999225e-01, 7.8459325e-06, 9.8741156e-01, ..., 2.4775542e-01,\n",
              "       9.9952829e-01, 6.7515337e-01], dtype=float32)"
            ]
          },
          "metadata": {
            "tags": []
          },
          "execution_count": 42
        }
      ]
    },
    {
      "cell_type": "code",
      "metadata": {
        "id": "Q-Cdhp8tjP4C",
        "colab_type": "code",
        "outputId": "18138f17-0165-4c4e-a554-1ce51440e906",
        "colab": {
          "base_uri": "https://localhost:8080/",
          "height": 204
        }
      },
      "source": [
        "# putting result in submission file\n",
        "\n",
        "submission_file = pd.read_csv('drive/My Drive/Pytorch_DataSet/Bag Of Words Meets Bags of popcorn/sampleSubmission.csv')\n",
        "submission_file.head()"
      ],
      "execution_count": 43,
      "outputs": [
        {
          "output_type": "execute_result",
          "data": {
            "text/html": [
              "<div>\n",
              "<style scoped>\n",
              "    .dataframe tbody tr th:only-of-type {\n",
              "        vertical-align: middle;\n",
              "    }\n",
              "\n",
              "    .dataframe tbody tr th {\n",
              "        vertical-align: top;\n",
              "    }\n",
              "\n",
              "    .dataframe thead th {\n",
              "        text-align: right;\n",
              "    }\n",
              "</style>\n",
              "<table border=\"1\" class=\"dataframe\">\n",
              "  <thead>\n",
              "    <tr style=\"text-align: right;\">\n",
              "      <th></th>\n",
              "      <th>id</th>\n",
              "      <th>sentiment</th>\n",
              "    </tr>\n",
              "  </thead>\n",
              "  <tbody>\n",
              "    <tr>\n",
              "      <th>0</th>\n",
              "      <td>12311_10</td>\n",
              "      <td>0</td>\n",
              "    </tr>\n",
              "    <tr>\n",
              "      <th>1</th>\n",
              "      <td>8348_2</td>\n",
              "      <td>0</td>\n",
              "    </tr>\n",
              "    <tr>\n",
              "      <th>2</th>\n",
              "      <td>5828_4</td>\n",
              "      <td>0</td>\n",
              "    </tr>\n",
              "    <tr>\n",
              "      <th>3</th>\n",
              "      <td>7186_2</td>\n",
              "      <td>0</td>\n",
              "    </tr>\n",
              "    <tr>\n",
              "      <th>4</th>\n",
              "      <td>12128_7</td>\n",
              "      <td>0</td>\n",
              "    </tr>\n",
              "  </tbody>\n",
              "</table>\n",
              "</div>"
            ],
            "text/plain": [
              "         id  sentiment\n",
              "0  12311_10          0\n",
              "1    8348_2          0\n",
              "2    5828_4          0\n",
              "3    7186_2          0\n",
              "4   12128_7          0"
            ]
          },
          "metadata": {
            "tags": []
          },
          "execution_count": 43
        }
      ]
    },
    {
      "cell_type": "code",
      "metadata": {
        "id": "W1uD9ipijUSP",
        "colab_type": "code",
        "colab": {}
      },
      "source": [
        "submission_file['sentiment'] = xgb1\n",
        "submission_file.to_csv('Using xgboost.csv',index=False)"
      ],
      "execution_count": 0,
      "outputs": []
    },
    {
      "cell_type": "markdown",
      "metadata": {
        "id": "z-KJksgwloyP",
        "colab_type": "text"
      },
      "source": [
        "Model gave 86% accuracy."
      ]
    },
    {
      "cell_type": "markdown",
      "metadata": {
        "id": "udsm-gB3jsri",
        "colab_type": "text"
      },
      "source": [
        "### 5.3) Using Logistic Regression"
      ]
    },
    {
      "cell_type": "code",
      "metadata": {
        "id": "MOHy9vhbjcjd",
        "colab_type": "code",
        "colab": {}
      },
      "source": [
        "from sklearn.linear_model import LogisticRegression\n",
        "lr = LogisticRegression()"
      ],
      "execution_count": 0,
      "outputs": []
    },
    {
      "cell_type": "code",
      "metadata": {
        "id": "9uDSsAAUkJvy",
        "colab_type": "code",
        "outputId": "122b0de8-056d-4fc8-eeb3-f89d423c44b8",
        "colab": {
          "base_uri": "https://localhost:8080/",
          "height": 34
        }
      },
      "source": [
        "lr.fit(X_train,y_train)\n",
        "y_val_pred = lr.predict(X_val)\n",
        "\n",
        "print(roc_auc_score(y_val_pred,y_val))\n",
        "\n",
        "lr1 = lr.predict(X_test)\n",
        "lr2 = lr.predict_proba(X_test)[:,1]"
      ],
      "execution_count": 46,
      "outputs": [
        {
          "output_type": "stream",
          "text": [
            "0.8929576689398318\n"
          ],
          "name": "stdout"
        }
      ]
    },
    {
      "cell_type": "code",
      "metadata": {
        "id": "ljZWxkiJnIDm",
        "colab_type": "code",
        "colab": {
          "base_uri": "https://localhost:8080/",
          "height": 34
        },
        "outputId": "063539dc-2438-49a6-bab2-a8c2754334f6"
      },
      "source": [
        "lr1"
      ],
      "execution_count": 47,
      "outputs": [
        {
          "output_type": "execute_result",
          "data": {
            "text/plain": [
              "array([1, 0, 1, ..., 0, 1, 1])"
            ]
          },
          "metadata": {
            "tags": []
          },
          "execution_count": 47
        }
      ]
    },
    {
      "cell_type": "code",
      "metadata": {
        "id": "j_2I_hzCnKcr",
        "colab_type": "code",
        "colab": {
          "base_uri": "https://localhost:8080/",
          "height": 51
        },
        "outputId": "8d951e2e-4b07-415f-f609-0430c085db22"
      },
      "source": [
        "lr2"
      ],
      "execution_count": 48,
      "outputs": [
        {
          "output_type": "execute_result",
          "data": {
            "text/plain": [
              "array([0.93838547, 0.06921883, 0.68454463, ..., 0.41196431, 0.93211129,\n",
              "       0.58675025])"
            ]
          },
          "metadata": {
            "tags": []
          },
          "execution_count": 48
        }
      ]
    },
    {
      "cell_type": "code",
      "metadata": {
        "id": "lN5ZVhYBkZGW",
        "colab_type": "code",
        "colab": {}
      },
      "source": [
        "# putting result in submission file\n",
        "\n",
        "submission_file = pd.read_csv('drive/My Drive/Pytorch_DataSet/Bag Of Words Meets Bags of popcorn/sampleSubmission.csv')\n",
        "submission_file['sentiment'] = lr1\n",
        "submission_file.to_csv('Using Logistic Regression.csv',index=False)"
      ],
      "execution_count": 0,
      "outputs": []
    },
    {
      "cell_type": "markdown",
      "metadata": {
        "id": "W_Qwk6EylqHj",
        "colab_type": "text"
      },
      "source": [
        "Model gave 88% accuracy."
      ]
    },
    {
      "cell_type": "markdown",
      "metadata": {
        "id": "HNJKXWtVw-hH",
        "colab_type": "text"
      },
      "source": [
        "## Model Ensembling"
      ]
    },
    {
      "cell_type": "code",
      "metadata": {
        "id": "In0Jo31OkjFh",
        "colab_type": "code",
        "colab": {}
      },
      "source": [
        ""
      ],
      "execution_count": 0,
      "outputs": []
    }
  ]
}